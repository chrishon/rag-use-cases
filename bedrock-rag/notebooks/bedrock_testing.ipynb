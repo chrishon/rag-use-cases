{
 "cells": [
  {
   "cell_type": "code",
   "execution_count": 2,
   "metadata": {},
   "outputs": [],
   "source": [
    "import boto3\n",
    "import json\n",
    "bedrock = boto3.client('bedrock-runtime')"
   ]
  },
  {
   "cell_type": "code",
   "execution_count": 3,
   "metadata": {},
   "outputs": [
    {
     "name": "stdout",
     "output_type": "stream",
     "text": [
      "Prompt: User: Explain to me black holes like I am 5 years old\n",
      "Bot:\n",
      "Response:  Black holes are really, really strong places in space where gravity pulls so much that nothing, not even light, can escape. They form when big stars die and crush themselves into tiny, tiny pieces.\n"
     ]
    }
   ],
   "source": [
    "prompt = \"User: Explain to me black holes like I am 5 years old\\nBot:\"\n",
    "body = json.dumps({\n",
    "    \"inputText\": prompt,\n",
    "    \"textGenerationConfig\": {\n",
    "        \"temperature\": 0.5,  \n",
    "        \"topP\": 0.9,\n",
    "        \"maxTokenCount\": 300,\n",
    "    }\n",
    "})\n",
    "\n",
    "modelId = 'amazon.titan-text-express-v1'\n",
    "accept = 'application/json'\n",
    "contentType = 'application/json'\n",
    "\n",
    "response = bedrock.invoke_model(body=body, modelId=modelId, accept=accept, contentType=contentType)\n",
    "\n",
    "response_body = json.loads(response.get('body').read())\n",
    "# text\n",
    "response_text = response_body[\"results\"][0][\"outputText\"]\n",
    "print(f\"Prompt: {prompt}\")\n",
    "print(f\"Response: {response_text}\")\n"
   ]
  },
  {
   "cell_type": "code",
   "execution_count": 6,
   "metadata": {},
   "outputs": [
    {
     "name": "stdout",
     "output_type": "stream",
     "text": [
      "{'ResponseMetadata': {'RequestId': 'a040e79d-e4d4-4ec3-a3f0-328033d584e3', 'HTTPStatusCode': 200, 'HTTPHeaders': {'date': 'Wed, 10 Apr 2024 14:56:32 GMT', 'content-type': 'application/json', 'content-length': '16954', 'connection': 'keep-alive', 'x-amzn-requestid': 'a040e79d-e4d4-4ec3-a3f0-328033d584e3', 'x-amzn-bedrock-invocation-latency': '288', 'x-amzn-bedrock-input-token-count': '8'}, 'RetryAttempts': 0}, 'contentType': 'application/json', 'body': <botocore.response.StreamingBody object at 0x110b20610>}\n"
     ]
    }
   ],
   "source": [
    "print(bedrock.invoke_model(**{\n",
    " \"modelId\": \"amazon.titan-embed-text-v1\",\n",
    " \"contentType\": \"application/json\",\n",
    " \"accept\": \"*/*\",\n",
    " \"body\": \"{\\\"inputText\\\":\\\"this is where you place your input text\\\"}\"\n",
    "}))"
   ]
  },
  {
   "cell_type": "code",
   "execution_count": null,
   "metadata": {},
   "outputs": [],
   "source": []
  }
 ],
 "metadata": {
  "kernelspec": {
   "display_name": "rag-genai",
   "language": "python",
   "name": "python3"
  },
  "language_info": {
   "codemirror_mode": {
    "name": "ipython",
    "version": 3
   },
   "file_extension": ".py",
   "mimetype": "text/x-python",
   "name": "python",
   "nbconvert_exporter": "python",
   "pygments_lexer": "ipython3",
   "version": "3.10.14"
  }
 },
 "nbformat": 4,
 "nbformat_minor": 2
}
